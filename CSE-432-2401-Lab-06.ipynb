{
 "cells": [
  {
   "cell_type": "markdown",
   "metadata": {},
   "source": [
    "# Task 1\n",
    "Symbolic Algebra in Python.\n",
    "\n",
    "We can use sympy library to do symbolic algebra in python. "
   ]
  },
  {
   "cell_type": "code",
   "execution_count": 1,
   "metadata": {
    "scrolled": true
   },
   "outputs": [
    {
     "name": "stdout",
     "output_type": "stream",
     "text": [
      "3*x + 2*y + 5\n",
      "(x + y)**2*(2*x - y)\n",
      "2*x**3 + 3*x**2*y - y**3\n"
     ]
    }
   ],
   "source": [
    "import sympy as sym\n",
    "x=sym.Symbol('x')\n",
    "y=sym.Symbol('y')\n",
    "expression= x+x+y+5+x+y  # sympy will simplify thge expression\n",
    "print(expression)\n",
    "expression2 = (x+y)*(x+y)*(2*x-y)\n",
    "print(expression2)\n",
    "print(sym.expand(expression2))"
   ]
  },
  {
   "cell_type": "markdown",
   "metadata": {},
   "source": [
    "## Task 2\n",
    "Pretty printing using sympy"
   ]
  },
  {
   "cell_type": "code",
   "execution_count": 2,
   "metadata": {
    "scrolled": true
   },
   "outputs": [
    {
     "name": "stdout",
     "output_type": "stream",
     "text": [
      "       2          \n",
      "(x + y) ⋅(2⋅x - y)\n",
      "   3      2      3\n",
      "2⋅x  + 3⋅x ⋅y - y \n"
     ]
    },
    {
     "data": {
      "image/png": "[encoded data removed]",
      "text/latex": [
       "$\\displaystyle \\int \\sqrt{\\frac{1}{x}}\\, dx$"
      ],
      "text/plain": [
       "⌠           \n",
       "⎮     ___   \n",
       "⎮    ╱ 1    \n",
       "⎮   ╱  ─  dx\n",
       "⎮ ╲╱   x    \n",
       "⌡           "
      ]
     },
     "execution_count": 2,
     "metadata": {},
     "output_type": "execute_result"
    }
   ],
   "source": [
    "import sympy as sym\n",
    "from sympy import *\n",
    "init_printing()\n",
    "x,y,z = symbols('x y z')\n",
    "expression=(x+y)*(x+y)*(2*x-y)\n",
    "pprint(expression)\n",
    "pprint(sym.expand(expression))\n",
    "Integral(sqrt(1/x),x)"
   ]
  },
  {
   "cell_type": "markdown",
   "metadata": {},
   "source": [
    "## Task 3\n",
    "Solving simple equations using sympy"
   ]
  },
  {
   "cell_type": "code",
   "execution_count": 3,
   "metadata": {},
   "outputs": [
    {
     "name": "stdout",
     "output_type": "stream",
     "text": [
      "[-3, 3]\n"
     ]
    }
   ],
   "source": [
    "import sympy as sym\n",
    "from sympy import *\n",
    "init_printing()\n",
    "x=sym.Symbol('x')\n",
    "solution=sym.solve(x**2-9,x)\n",
    "print(solution)"
   ]
  },
  {
   "cell_type": "markdown",
   "metadata": {},
   "source": [
    "## Task 4\n",
    "Computing differentiation using sympy"
   ]
  },
  {
   "cell_type": "code",
   "execution_count": 4,
   "metadata": {},
   "outputs": [
    {
     "name": "stdout",
     "output_type": "stream",
     "text": [
      "cos(x)\n",
      "-sin(x)\n",
      "                               -5⋅x\n",
      "-2⋅sin(x)⋅cos(x) + cos(x) - 5⋅ℯ    \n",
      "     2                    2          -5⋅x\n",
      "2⋅sin (x) - sin(x) - 2⋅cos (x) + 25⋅ℯ    \n"
     ]
    }
   ],
   "source": [
    "import sympy as sym\n",
    "from sympy import *\n",
    "init_printing()\n",
    "x=sym.Symbol('x')\n",
    "print(sym.diff(sym.sin(x),x))\n",
    "print(sym.diff(sym.cos(x),x))\n",
    "pprint(sym.diff(sym.cos(x)**2+sym.sin(x)+sym.exp(-5*x),x))\n",
    "#n-order differentiation\n",
    "pprint(sym.diff(sym.cos(x)**2+sym.sin(x)+sym.exp(-5*x),x,2))"
   ]
  },
  {
   "cell_type": "markdown",
   "metadata": {},
   "source": [
    "## Task 5\n",
    "Computing integration using sympy"
   ]
  },
  {
   "cell_type": "code",
   "execution_count": 5,
   "metadata": {},
   "outputs": [
    {
     "name": "stdout",
     "output_type": "stream",
     "text": [
      "-cos(x)\n",
      "sin(x)\n",
      "                              -5⋅x\n",
      "x   sin(x)⋅cos(x)            ℯ    \n",
      "─ + ───────────── - cos(x) - ─────\n",
      "2         2                    5  \n",
      "   -5                        5\n",
      "  ℯ                         ℯ \n",
      "- ─── + sin(1)⋅cos(1) + 1 + ──\n",
      "   5                        5 \n",
      "   -5⋅π        5⋅π\n",
      "  ℯ           ℯ   \n",
      "- ───── + π + ────\n",
      "    5          5  \n",
      "1\n"
     ]
    }
   ],
   "source": [
    "import sympy as sym\n",
    "from sympy import *\n",
    "init_printing()\n",
    "x=sym.Symbol('x')\n",
    "print(sym.integrate(sym.sin(x),x))\n",
    "print(sym.integrate(sym.cos(x),x))\n",
    "pprint(sym.integrate(sym.cos(x)**2+sym.sin(x)+sym.exp(-5*x),x))\n",
    "#definite integrals can also be found\n",
    "pprint(sym.integrate(sym.cos(x)**2+sym.sin(x)+sym.exp(-5*x),(x, -1,1)))\n",
    "pprint(sym.integrate(sym.cos(x)**2+sym.sin(x)+sym.exp(-5*x),(x, -sym.pi,sym.pi)))\n",
    "\n",
    "print(sym.integrate(sym.exp(-x),(x, 0, sym.oo)))"
   ]
  },
  {
   "cell_type": "markdown",
   "metadata": {},
   "source": [
    "## Task 6\n",
    "Solving simultaneous equations using sympy"
   ]
  },
  {
   "cell_type": "code",
   "execution_count": 6,
   "metadata": {},
   "outputs": [
    {
     "name": "stdout",
     "output_type": "stream",
     "text": [
      "{x: 5, y: -20/7, z: 15/7}\n"
     ]
    }
   ],
   "source": [
    "import sympy as sym\n",
    "from sympy import *\n",
    "init_printing()\n",
    "x,y,z = symbols('x y z')\n",
    "solution = sym.solve((3*x+5*y+2*z-5,4*x+5*y+2*z-10,10*x+20*y+50*z-100),(x,y,z))\n",
    "pprint(solution)"
   ]
  },
  {
   "cell_type": "markdown",
   "metadata": {},
   "source": [
    "## Task 7\n",
    "Finding factors and solving polynomial"
   ]
  },
  {
   "cell_type": "code",
   "execution_count": 7,
   "metadata": {},
   "outputs": [
    {
     "name": "stdout",
     "output_type": "stream",
     "text": [
      "[-2]\n"
     ]
    },
    {
     "data": {
      "image/png": "[encoded data removed]",
      "text/latex": [
       "$\\displaystyle \\left(x + 2\\right)^{4}$"
      ],
      "text/plain": [
       "       4\n",
       "(x + 2) "
      ]
     },
     "execution_count": 7,
     "metadata": {},
     "output_type": "execute_result"
    }
   ],
   "source": [
    "import sympy as sym\n",
    "from sympy import *\n",
    "init_printing()\n",
    "x,y,z = symbols('x y z')\n",
    "#f=x**5+5*x**4+10*x**3+10*x**2+50*x+10\n",
    "f=x**4+8*x**3+24*x**2+32*x+16\n",
    "pprint(sym.solve(f))\n",
    "sym.factor(f)"
   ]
  },
  {
   "cell_type": "markdown",
   "metadata": {},
   "source": [
    "## Home Task\n",
    "1. Solve differential equation using sympy "
   ]
  }
 ],
 "metadata": {
  "kernelspec": {
   "display_name": "Python 3",
   "language": "python",
   "name": "python3"
  },
  "language_info": {
   "codemirror_mode": {
    "name": "ipython",
    "version": 3
   },
   "file_extension": ".py",
   "mimetype": "text/x-python",
   "name": "python",
   "nbconvert_exporter": "python",
   "pygments_lexer": "ipython3",
   "version": "3.8.5"
  }
 },
 "nbformat": 4,
 "nbformat_minor": 4
}
